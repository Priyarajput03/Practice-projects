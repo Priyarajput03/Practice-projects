{
 "cells": [
  {
   "cell_type": "code",
   "execution_count": 40,
   "id": "7b2c9cff",
   "metadata": {},
   "outputs": [],
   "source": [
    "import pandas as pd\n",
    "import numpy as np\n",
    "import matplotlib.pyplot as plt\n",
    "import seaborn as sns\n",
    "\n",
    "import warnings\n",
    "warnings.filterwarnings('ignore')"
   ]
  },
  {
   "cell_type": "code",
   "execution_count": 41,
   "id": "18fd80ba",
   "metadata": {},
   "outputs": [
    {
     "data": {
      "text/html": [
       "<div>\n",
       "<style scoped>\n",
       "    .dataframe tbody tr th:only-of-type {\n",
       "        vertical-align: middle;\n",
       "    }\n",
       "\n",
       "    .dataframe tbody tr th {\n",
       "        vertical-align: top;\n",
       "    }\n",
       "\n",
       "    .dataframe thead th {\n",
       "        text-align: right;\n",
       "    }\n",
       "</style>\n",
       "<table border=\"1\" class=\"dataframe\">\n",
       "  <thead>\n",
       "    <tr style=\"text-align: right;\">\n",
       "      <th></th>\n",
       "      <th>Sex</th>\n",
       "      <th>Length</th>\n",
       "      <th>Diameter</th>\n",
       "      <th>Height</th>\n",
       "      <th>Whole weight</th>\n",
       "      <th>Shucked weight</th>\n",
       "      <th>Viscera weight</th>\n",
       "      <th>Shell weight</th>\n",
       "      <th>Rings</th>\n",
       "    </tr>\n",
       "  </thead>\n",
       "  <tbody>\n",
       "    <tr>\n",
       "      <th>0</th>\n",
       "      <td>M</td>\n",
       "      <td>0.455</td>\n",
       "      <td>0.365</td>\n",
       "      <td>0.095</td>\n",
       "      <td>0.5140</td>\n",
       "      <td>0.2245</td>\n",
       "      <td>0.1010</td>\n",
       "      <td>0.150</td>\n",
       "      <td>15</td>\n",
       "    </tr>\n",
       "    <tr>\n",
       "      <th>1</th>\n",
       "      <td>M</td>\n",
       "      <td>0.350</td>\n",
       "      <td>0.265</td>\n",
       "      <td>0.090</td>\n",
       "      <td>0.2255</td>\n",
       "      <td>0.0995</td>\n",
       "      <td>0.0485</td>\n",
       "      <td>0.070</td>\n",
       "      <td>7</td>\n",
       "    </tr>\n",
       "    <tr>\n",
       "      <th>2</th>\n",
       "      <td>F</td>\n",
       "      <td>0.530</td>\n",
       "      <td>0.420</td>\n",
       "      <td>0.135</td>\n",
       "      <td>0.6770</td>\n",
       "      <td>0.2565</td>\n",
       "      <td>0.1415</td>\n",
       "      <td>0.210</td>\n",
       "      <td>9</td>\n",
       "    </tr>\n",
       "    <tr>\n",
       "      <th>3</th>\n",
       "      <td>M</td>\n",
       "      <td>0.440</td>\n",
       "      <td>0.365</td>\n",
       "      <td>0.125</td>\n",
       "      <td>0.5160</td>\n",
       "      <td>0.2155</td>\n",
       "      <td>0.1140</td>\n",
       "      <td>0.155</td>\n",
       "      <td>10</td>\n",
       "    </tr>\n",
       "    <tr>\n",
       "      <th>4</th>\n",
       "      <td>I</td>\n",
       "      <td>0.330</td>\n",
       "      <td>0.255</td>\n",
       "      <td>0.080</td>\n",
       "      <td>0.2050</td>\n",
       "      <td>0.0895</td>\n",
       "      <td>0.0395</td>\n",
       "      <td>0.055</td>\n",
       "      <td>7</td>\n",
       "    </tr>\n",
       "  </tbody>\n",
       "</table>\n",
       "</div>"
      ],
      "text/plain": [
       "  Sex  Length  Diameter  Height  Whole weight  Shucked weight  Viscera weight  \\\n",
       "0   M   0.455     0.365   0.095        0.5140          0.2245          0.1010   \n",
       "1   M   0.350     0.265   0.090        0.2255          0.0995          0.0485   \n",
       "2   F   0.530     0.420   0.135        0.6770          0.2565          0.1415   \n",
       "3   M   0.440     0.365   0.125        0.5160          0.2155          0.1140   \n",
       "4   I   0.330     0.255   0.080        0.2050          0.0895          0.0395   \n",
       "\n",
       "   Shell weight  Rings  \n",
       "0         0.150     15  \n",
       "1         0.070      7  \n",
       "2         0.210      9  \n",
       "3         0.155     10  \n",
       "4         0.055      7  "
      ]
     },
     "execution_count": 41,
     "metadata": {},
     "output_type": "execute_result"
    }
   ],
   "source": [
    "df=pd.read_csv('https://raw.githubusercontent.com/dsrscientist/dataset1/master/abalone.csv')\n",
    "df.head()"
   ]
  },
  {
   "cell_type": "code",
   "execution_count": 42,
   "id": "75265dc9",
   "metadata": {},
   "outputs": [
    {
     "data": {
      "text/plain": [
       "(4177, 9)"
      ]
     },
     "execution_count": 42,
     "metadata": {},
     "output_type": "execute_result"
    }
   ],
   "source": [
    "df.shape   # Get data dimension"
   ]
  },
  {
   "cell_type": "code",
   "execution_count": 43,
   "id": "0a3adfcf",
   "metadata": {},
   "outputs": [
    {
     "data": {
      "text/html": [
       "<div>\n",
       "<style scoped>\n",
       "    .dataframe tbody tr th:only-of-type {\n",
       "        vertical-align: middle;\n",
       "    }\n",
       "\n",
       "    .dataframe tbody tr th {\n",
       "        vertical-align: top;\n",
       "    }\n",
       "\n",
       "    .dataframe thead th {\n",
       "        text-align: right;\n",
       "    }\n",
       "</style>\n",
       "<table border=\"1\" class=\"dataframe\">\n",
       "  <thead>\n",
       "    <tr style=\"text-align: right;\">\n",
       "      <th></th>\n",
       "      <th>Length</th>\n",
       "      <th>Diameter</th>\n",
       "      <th>Height</th>\n",
       "      <th>Whole weight</th>\n",
       "      <th>Shucked weight</th>\n",
       "      <th>Viscera weight</th>\n",
       "      <th>Shell weight</th>\n",
       "      <th>Rings</th>\n",
       "    </tr>\n",
       "  </thead>\n",
       "  <tbody>\n",
       "    <tr>\n",
       "      <th>count</th>\n",
       "      <td>4177.000000</td>\n",
       "      <td>4177.000000</td>\n",
       "      <td>4177.000000</td>\n",
       "      <td>4177.000000</td>\n",
       "      <td>4177.000000</td>\n",
       "      <td>4177.000000</td>\n",
       "      <td>4177.000000</td>\n",
       "      <td>4177.000000</td>\n",
       "    </tr>\n",
       "    <tr>\n",
       "      <th>mean</th>\n",
       "      <td>0.523992</td>\n",
       "      <td>0.407881</td>\n",
       "      <td>0.139516</td>\n",
       "      <td>0.828742</td>\n",
       "      <td>0.359367</td>\n",
       "      <td>0.180594</td>\n",
       "      <td>0.238831</td>\n",
       "      <td>9.933684</td>\n",
       "    </tr>\n",
       "    <tr>\n",
       "      <th>std</th>\n",
       "      <td>0.120093</td>\n",
       "      <td>0.099240</td>\n",
       "      <td>0.041827</td>\n",
       "      <td>0.490389</td>\n",
       "      <td>0.221963</td>\n",
       "      <td>0.109614</td>\n",
       "      <td>0.139203</td>\n",
       "      <td>3.224169</td>\n",
       "    </tr>\n",
       "    <tr>\n",
       "      <th>min</th>\n",
       "      <td>0.075000</td>\n",
       "      <td>0.055000</td>\n",
       "      <td>0.000000</td>\n",
       "      <td>0.002000</td>\n",
       "      <td>0.001000</td>\n",
       "      <td>0.000500</td>\n",
       "      <td>0.001500</td>\n",
       "      <td>1.000000</td>\n",
       "    </tr>\n",
       "    <tr>\n",
       "      <th>25%</th>\n",
       "      <td>0.450000</td>\n",
       "      <td>0.350000</td>\n",
       "      <td>0.115000</td>\n",
       "      <td>0.441500</td>\n",
       "      <td>0.186000</td>\n",
       "      <td>0.093500</td>\n",
       "      <td>0.130000</td>\n",
       "      <td>8.000000</td>\n",
       "    </tr>\n",
       "    <tr>\n",
       "      <th>50%</th>\n",
       "      <td>0.545000</td>\n",
       "      <td>0.425000</td>\n",
       "      <td>0.140000</td>\n",
       "      <td>0.799500</td>\n",
       "      <td>0.336000</td>\n",
       "      <td>0.171000</td>\n",
       "      <td>0.234000</td>\n",
       "      <td>9.000000</td>\n",
       "    </tr>\n",
       "    <tr>\n",
       "      <th>75%</th>\n",
       "      <td>0.615000</td>\n",
       "      <td>0.480000</td>\n",
       "      <td>0.165000</td>\n",
       "      <td>1.153000</td>\n",
       "      <td>0.502000</td>\n",
       "      <td>0.253000</td>\n",
       "      <td>0.329000</td>\n",
       "      <td>11.000000</td>\n",
       "    </tr>\n",
       "    <tr>\n",
       "      <th>max</th>\n",
       "      <td>0.815000</td>\n",
       "      <td>0.650000</td>\n",
       "      <td>1.130000</td>\n",
       "      <td>2.825500</td>\n",
       "      <td>1.488000</td>\n",
       "      <td>0.760000</td>\n",
       "      <td>1.005000</td>\n",
       "      <td>29.000000</td>\n",
       "    </tr>\n",
       "  </tbody>\n",
       "</table>\n",
       "</div>"
      ],
      "text/plain": [
       "            Length     Diameter       Height  Whole weight  Shucked weight  \\\n",
       "count  4177.000000  4177.000000  4177.000000   4177.000000     4177.000000   \n",
       "mean      0.523992     0.407881     0.139516      0.828742        0.359367   \n",
       "std       0.120093     0.099240     0.041827      0.490389        0.221963   \n",
       "min       0.075000     0.055000     0.000000      0.002000        0.001000   \n",
       "25%       0.450000     0.350000     0.115000      0.441500        0.186000   \n",
       "50%       0.545000     0.425000     0.140000      0.799500        0.336000   \n",
       "75%       0.615000     0.480000     0.165000      1.153000        0.502000   \n",
       "max       0.815000     0.650000     1.130000      2.825500        1.488000   \n",
       "\n",
       "       Viscera weight  Shell weight        Rings  \n",
       "count     4177.000000   4177.000000  4177.000000  \n",
       "mean         0.180594      0.238831     9.933684  \n",
       "std          0.109614      0.139203     3.224169  \n",
       "min          0.000500      0.001500     1.000000  \n",
       "25%          0.093500      0.130000     8.000000  \n",
       "50%          0.171000      0.234000     9.000000  \n",
       "75%          0.253000      0.329000    11.000000  \n",
       "max          0.760000      1.005000    29.000000  "
      ]
     },
     "execution_count": 43,
     "metadata": {},
     "output_type": "execute_result"
    }
   ],
   "source": [
    "df.describe() # statistical Summary"
   ]
  },
  {
   "cell_type": "code",
   "execution_count": 44,
   "id": "92079d53",
   "metadata": {},
   "outputs": [
    {
     "name": "stdout",
     "output_type": "stream",
     "text": [
      "<class 'pandas.core.frame.DataFrame'>\n",
      "RangeIndex: 4177 entries, 0 to 4176\n",
      "Data columns (total 9 columns):\n",
      " #   Column          Non-Null Count  Dtype  \n",
      "---  ------          --------------  -----  \n",
      " 0   Sex             4177 non-null   object \n",
      " 1   Length          4177 non-null   float64\n",
      " 2   Diameter        4177 non-null   float64\n",
      " 3   Height          4177 non-null   float64\n",
      " 4   Whole weight    4177 non-null   float64\n",
      " 5   Shucked weight  4177 non-null   float64\n",
      " 6   Viscera weight  4177 non-null   float64\n",
      " 7   Shell weight    4177 non-null   float64\n",
      " 8   Rings           4177 non-null   int64  \n",
      "dtypes: float64(7), int64(1), object(1)\n",
      "memory usage: 293.8+ KB\n"
     ]
    }
   ],
   "source": [
    "df.info()"
   ]
  },
  {
   "cell_type": "code",
   "execution_count": 45,
   "id": "02478be9",
   "metadata": {},
   "outputs": [
    {
     "data": {
      "text/plain": [
       "Sex               0\n",
       "Length            0\n",
       "Diameter          0\n",
       "Height            0\n",
       "Whole weight      0\n",
       "Shucked weight    0\n",
       "Viscera weight    0\n",
       "Shell weight      0\n",
       "Rings             0\n",
       "dtype: int64"
      ]
     },
     "execution_count": 45,
     "metadata": {},
     "output_type": "execute_result"
    }
   ],
   "source": [
    "df.isna().sum()  # finding the null values"
   ]
  },
  {
   "cell_type": "code",
   "execution_count": 46,
   "id": "fde4e7df",
   "metadata": {},
   "outputs": [
    {
     "data": {
      "text/html": [
       "<div>\n",
       "<style scoped>\n",
       "    .dataframe tbody tr th:only-of-type {\n",
       "        vertical-align: middle;\n",
       "    }\n",
       "\n",
       "    .dataframe tbody tr th {\n",
       "        vertical-align: top;\n",
       "    }\n",
       "\n",
       "    .dataframe thead th {\n",
       "        text-align: right;\n",
       "    }\n",
       "</style>\n",
       "<table border=\"1\" class=\"dataframe\">\n",
       "  <thead>\n",
       "    <tr style=\"text-align: right;\">\n",
       "      <th></th>\n",
       "      <th>Sex</th>\n",
       "      <th>Length</th>\n",
       "      <th>Diameter</th>\n",
       "      <th>Height</th>\n",
       "      <th>Whole weight</th>\n",
       "      <th>Shucked weight</th>\n",
       "      <th>Viscera weight</th>\n",
       "      <th>Shell weight</th>\n",
       "      <th>Rings</th>\n",
       "    </tr>\n",
       "  </thead>\n",
       "  <tbody>\n",
       "    <tr>\n",
       "      <th>0</th>\n",
       "      <td>2</td>\n",
       "      <td>0.455</td>\n",
       "      <td>0.365</td>\n",
       "      <td>0.095</td>\n",
       "      <td>0.5140</td>\n",
       "      <td>0.2245</td>\n",
       "      <td>0.1010</td>\n",
       "      <td>0.150</td>\n",
       "      <td>15</td>\n",
       "    </tr>\n",
       "    <tr>\n",
       "      <th>1</th>\n",
       "      <td>2</td>\n",
       "      <td>0.350</td>\n",
       "      <td>0.265</td>\n",
       "      <td>0.090</td>\n",
       "      <td>0.2255</td>\n",
       "      <td>0.0995</td>\n",
       "      <td>0.0485</td>\n",
       "      <td>0.070</td>\n",
       "      <td>7</td>\n",
       "    </tr>\n",
       "    <tr>\n",
       "      <th>2</th>\n",
       "      <td>0</td>\n",
       "      <td>0.530</td>\n",
       "      <td>0.420</td>\n",
       "      <td>0.135</td>\n",
       "      <td>0.6770</td>\n",
       "      <td>0.2565</td>\n",
       "      <td>0.1415</td>\n",
       "      <td>0.210</td>\n",
       "      <td>9</td>\n",
       "    </tr>\n",
       "    <tr>\n",
       "      <th>3</th>\n",
       "      <td>2</td>\n",
       "      <td>0.440</td>\n",
       "      <td>0.365</td>\n",
       "      <td>0.125</td>\n",
       "      <td>0.5160</td>\n",
       "      <td>0.2155</td>\n",
       "      <td>0.1140</td>\n",
       "      <td>0.155</td>\n",
       "      <td>10</td>\n",
       "    </tr>\n",
       "    <tr>\n",
       "      <th>4</th>\n",
       "      <td>1</td>\n",
       "      <td>0.330</td>\n",
       "      <td>0.255</td>\n",
       "      <td>0.080</td>\n",
       "      <td>0.2050</td>\n",
       "      <td>0.0895</td>\n",
       "      <td>0.0395</td>\n",
       "      <td>0.055</td>\n",
       "      <td>7</td>\n",
       "    </tr>\n",
       "  </tbody>\n",
       "</table>\n",
       "</div>"
      ],
      "text/plain": [
       "   Sex  Length  Diameter  Height  Whole weight  Shucked weight  \\\n",
       "0    2   0.455     0.365   0.095        0.5140          0.2245   \n",
       "1    2   0.350     0.265   0.090        0.2255          0.0995   \n",
       "2    0   0.530     0.420   0.135        0.6770          0.2565   \n",
       "3    2   0.440     0.365   0.125        0.5160          0.2155   \n",
       "4    1   0.330     0.255   0.080        0.2050          0.0895   \n",
       "\n",
       "   Viscera weight  Shell weight  Rings  \n",
       "0          0.1010         0.150     15  \n",
       "1          0.0485         0.070      7  \n",
       "2          0.1415         0.210      9  \n",
       "3          0.1140         0.155     10  \n",
       "4          0.0395         0.055      7  "
      ]
     },
     "execution_count": 46,
     "metadata": {},
     "output_type": "execute_result"
    }
   ],
   "source": [
    "# ladel encoding is needed to convert dataset into 0 and 1 so that we can check the correlation of target variable with other column\n",
    "from sklearn.preprocessing import LabelEncoder\n",
    "LE=LabelEncoder()\n",
    "df['Sex']=LE.fit_transform(df['Sex'])\n",
    "df.head()\n"
   ]
  },
  {
   "cell_type": "code",
   "execution_count": 47,
   "id": "39fd4c9c",
   "metadata": {},
   "outputs": [
    {
     "data": {
      "image/png": "[encoded data removed]",
      "text/plain": [
       "<Figure size 1440x1800 with 9 Axes>"
      ]
     },
     "metadata": {
      "needs_background": "light"
     },
     "output_type": "display_data"
    }
   ],
   "source": [
    "#  let see how data is distributed with every column\n",
    "plt.figure(figsize=(20,25))\n",
    "plotnumber=1\n",
    "\n",
    "for column in df:\n",
    "    if plotnumber<=9:\n",
    "        ax=plt.subplot(3,3,plotnumber)\n",
    "        sns.distplot(df[column])\n",
    "        plt.xlabel(column,fontsize=20)\n",
    "        \n",
    "    plotnumber+=1\n",
    "plt.show()"
   ]
  },
  {
   "cell_type": "code",
   "execution_count": 48,
   "id": "57430c31",
   "metadata": {},
   "outputs": [
    {
     "data": {
      "image/png": "[encoded data removed]",
      "text/plain": [
       "<Figure size 1080x3600 with 9 Axes>"
      ]
     },
     "metadata": {
      "needs_background": "light"
     },
     "output_type": "display_data"
    }
   ],
   "source": [
    "#visualizing data for outliers\n",
    "plt.figure(figsize=(15,50))\n",
    "graph=1\n",
    "for column in df:\n",
    "    if graph<=30:\n",
    "        ax=plt.subplot(10,3,graph)\n",
    "        sns.boxplot(df[column],orient='v')\n",
    "        plt.xlabel(column,fontsize=10)\n",
    "        \n",
    "    graph+=1\n",
    "plt.show()"
   ]
  },
  {
   "cell_type": "code",
   "execution_count": 49,
   "id": "6325ad62",
   "metadata": {},
   "outputs": [
    {
     "data": {
      "text/plain": [
       "Sex               0.0000\n",
       "Length            0.4500\n",
       "Diameter          0.3500\n",
       "Height            0.1150\n",
       "Whole weight      0.4415\n",
       "Shucked weight    0.1860\n",
       "Viscera weight    0.0935\n",
       "Shell weight      0.1300\n",
       "Rings             8.0000\n",
       "Name: 0.25, dtype: float64"
      ]
     },
     "execution_count": 49,
     "metadata": {},
     "output_type": "execute_result"
    }
   ],
   "source": [
    "q1=df.quantile(0.25)\n",
    "q1"
   ]
  },
  {
   "cell_type": "code",
   "execution_count": 50,
   "id": "27530845",
   "metadata": {},
   "outputs": [
    {
     "data": {
      "text/plain": [
       "Sex                2.000\n",
       "Length             0.615\n",
       "Diameter           0.480\n",
       "Height             0.165\n",
       "Whole weight       1.153\n",
       "Shucked weight     0.502\n",
       "Viscera weight     0.253\n",
       "Shell weight       0.329\n",
       "Rings             11.000\n",
       "Name: 0.75, dtype: float64"
      ]
     },
     "execution_count": 50,
     "metadata": {},
     "output_type": "execute_result"
    }
   ],
   "source": [
    "q3=df.quantile(0.75)\n",
    "q3"
   ]
  },
  {
   "cell_type": "code",
   "execution_count": 51,
   "id": "5dbf5af4",
   "metadata": {},
   "outputs": [
    {
     "data": {
      "text/plain": [
       "Sex               2.0000\n",
       "Length            0.1650\n",
       "Diameter          0.1300\n",
       "Height            0.0500\n",
       "Whole weight      0.7115\n",
       "Shucked weight    0.3160\n",
       "Viscera weight    0.1595\n",
       "Shell weight      0.1990\n",
       "Rings             3.0000\n",
       "dtype: float64"
      ]
     },
     "execution_count": 51,
     "metadata": {},
     "output_type": "execute_result"
    }
   ],
   "source": [
    "iqr=q3-q1\n",
    "iqr"
   ]
  },
  {
   "cell_type": "code",
   "execution_count": 52,
   "id": "a70f08e0",
   "metadata": {},
   "outputs": [
    {
     "data": {
      "text/plain": [
       "Sex              -0.098155\n",
       "Length           -0.639873\n",
       "Diameter         -0.609198\n",
       "Height            3.128817\n",
       "Whole weight      0.530959\n",
       "Shucked weight    0.719098\n",
       "Viscera weight    0.591852\n",
       "Shell weight      0.620927\n",
       "Rings             1.114102\n",
       "dtype: float64"
      ]
     },
     "execution_count": 52,
     "metadata": {},
     "output_type": "execute_result"
    }
   ],
   "source": [
    "df.skew()"
   ]
  },
  {
   "cell_type": "code",
   "execution_count": 53,
   "id": "485703be",
   "metadata": {},
   "outputs": [
    {
     "data": {
      "text/plain": [
       "Sex                 int32\n",
       "Length            float64\n",
       "Diameter          float64\n",
       "Height            float64\n",
       "Whole weight      float64\n",
       "Shucked weight    float64\n",
       "Viscera weight    float64\n",
       "Shell weight      float64\n",
       "Rings               int64\n",
       "dtype: object"
      ]
     },
     "execution_count": 53,
     "metadata": {},
     "output_type": "execute_result"
    }
   ],
   "source": [
    "df.dtypes"
   ]
  },
  {
   "cell_type": "code",
   "execution_count": 54,
   "id": "cab1d90c",
   "metadata": {},
   "outputs": [
    {
     "data": {
      "text/plain": [
       "Sex              -0.034627\n",
       "Shucked weight    0.420884\n",
       "Viscera weight    0.503819\n",
       "Whole weight      0.540390\n",
       "Length            0.556720\n",
       "Height            0.557467\n",
       "Diameter          0.574660\n",
       "Shell weight      0.627574\n",
       "Rings             1.000000\n",
       "Name: Rings, dtype: float64"
      ]
     },
     "execution_count": 54,
     "metadata": {},
     "output_type": "execute_result"
    }
   ],
   "source": [
    "df.corr()['Rings'].sort_values()"
   ]
  },
  {
   "cell_type": "code",
   "execution_count": 55,
   "id": "dc79efe6",
   "metadata": {},
   "outputs": [
    {
     "data": {
      "text/html": [
       "<div>\n",
       "<style scoped>\n",
       "    .dataframe tbody tr th:only-of-type {\n",
       "        vertical-align: middle;\n",
       "    }\n",
       "\n",
       "    .dataframe tbody tr th {\n",
       "        vertical-align: top;\n",
       "    }\n",
       "\n",
       "    .dataframe thead th {\n",
       "        text-align: right;\n",
       "    }\n",
       "</style>\n",
       "<table border=\"1\" class=\"dataframe\">\n",
       "  <thead>\n",
       "    <tr style=\"text-align: right;\">\n",
       "      <th></th>\n",
       "      <th>Sex</th>\n",
       "      <th>Length</th>\n",
       "      <th>Diameter</th>\n",
       "      <th>Height</th>\n",
       "      <th>Whole weight</th>\n",
       "      <th>Shucked weight</th>\n",
       "      <th>Viscera weight</th>\n",
       "      <th>Shell weight</th>\n",
       "      <th>Rings</th>\n",
       "    </tr>\n",
       "  </thead>\n",
       "  <tbody>\n",
       "    <tr>\n",
       "      <th>Sex</th>\n",
       "      <td>1.000000</td>\n",
       "      <td>-0.036066</td>\n",
       "      <td>-0.038874</td>\n",
       "      <td>-0.042077</td>\n",
       "      <td>-0.021391</td>\n",
       "      <td>-0.001373</td>\n",
       "      <td>-0.032067</td>\n",
       "      <td>-0.034854</td>\n",
       "      <td>-0.034627</td>\n",
       "    </tr>\n",
       "    <tr>\n",
       "      <th>Length</th>\n",
       "      <td>-0.036066</td>\n",
       "      <td>1.000000</td>\n",
       "      <td>0.986812</td>\n",
       "      <td>0.827554</td>\n",
       "      <td>0.925261</td>\n",
       "      <td>0.897914</td>\n",
       "      <td>0.903018</td>\n",
       "      <td>0.897706</td>\n",
       "      <td>0.556720</td>\n",
       "    </tr>\n",
       "    <tr>\n",
       "      <th>Diameter</th>\n",
       "      <td>-0.038874</td>\n",
       "      <td>0.986812</td>\n",
       "      <td>1.000000</td>\n",
       "      <td>0.833684</td>\n",
       "      <td>0.925452</td>\n",
       "      <td>0.893162</td>\n",
       "      <td>0.899724</td>\n",
       "      <td>0.905330</td>\n",
       "      <td>0.574660</td>\n",
       "    </tr>\n",
       "    <tr>\n",
       "      <th>Height</th>\n",
       "      <td>-0.042077</td>\n",
       "      <td>0.827554</td>\n",
       "      <td>0.833684</td>\n",
       "      <td>1.000000</td>\n",
       "      <td>0.819221</td>\n",
       "      <td>0.774972</td>\n",
       "      <td>0.798319</td>\n",
       "      <td>0.817338</td>\n",
       "      <td>0.557467</td>\n",
       "    </tr>\n",
       "    <tr>\n",
       "      <th>Whole weight</th>\n",
       "      <td>-0.021391</td>\n",
       "      <td>0.925261</td>\n",
       "      <td>0.925452</td>\n",
       "      <td>0.819221</td>\n",
       "      <td>1.000000</td>\n",
       "      <td>0.969405</td>\n",
       "      <td>0.966375</td>\n",
       "      <td>0.955355</td>\n",
       "      <td>0.540390</td>\n",
       "    </tr>\n",
       "    <tr>\n",
       "      <th>Shucked weight</th>\n",
       "      <td>-0.001373</td>\n",
       "      <td>0.897914</td>\n",
       "      <td>0.893162</td>\n",
       "      <td>0.774972</td>\n",
       "      <td>0.969405</td>\n",
       "      <td>1.000000</td>\n",
       "      <td>0.931961</td>\n",
       "      <td>0.882617</td>\n",
       "      <td>0.420884</td>\n",
       "    </tr>\n",
       "    <tr>\n",
       "      <th>Viscera weight</th>\n",
       "      <td>-0.032067</td>\n",
       "      <td>0.903018</td>\n",
       "      <td>0.899724</td>\n",
       "      <td>0.798319</td>\n",
       "      <td>0.966375</td>\n",
       "      <td>0.931961</td>\n",
       "      <td>1.000000</td>\n",
       "      <td>0.907656</td>\n",
       "      <td>0.503819</td>\n",
       "    </tr>\n",
       "    <tr>\n",
       "      <th>Shell weight</th>\n",
       "      <td>-0.034854</td>\n",
       "      <td>0.897706</td>\n",
       "      <td>0.905330</td>\n",
       "      <td>0.817338</td>\n",
       "      <td>0.955355</td>\n",
       "      <td>0.882617</td>\n",
       "      <td>0.907656</td>\n",
       "      <td>1.000000</td>\n",
       "      <td>0.627574</td>\n",
       "    </tr>\n",
       "    <tr>\n",
       "      <th>Rings</th>\n",
       "      <td>-0.034627</td>\n",
       "      <td>0.556720</td>\n",
       "      <td>0.574660</td>\n",
       "      <td>0.557467</td>\n",
       "      <td>0.540390</td>\n",
       "      <td>0.420884</td>\n",
       "      <td>0.503819</td>\n",
       "      <td>0.627574</td>\n",
       "      <td>1.000000</td>\n",
       "    </tr>\n",
       "  </tbody>\n",
       "</table>\n",
       "</div>"
      ],
      "text/plain": [
       "                     Sex    Length  Diameter    Height  Whole weight  \\\n",
       "Sex             1.000000 -0.036066 -0.038874 -0.042077     -0.021391   \n",
       "Length         -0.036066  1.000000  0.986812  0.827554      0.925261   \n",
       "Diameter       -0.038874  0.986812  1.000000  0.833684      0.925452   \n",
       "Height         -0.042077  0.827554  0.833684  1.000000      0.819221   \n",
       "Whole weight   -0.021391  0.925261  0.925452  0.819221      1.000000   \n",
       "Shucked weight -0.001373  0.897914  0.893162  0.774972      0.969405   \n",
       "Viscera weight -0.032067  0.903018  0.899724  0.798319      0.966375   \n",
       "Shell weight   -0.034854  0.897706  0.905330  0.817338      0.955355   \n",
       "Rings          -0.034627  0.556720  0.574660  0.557467      0.540390   \n",
       "\n",
       "                Shucked weight  Viscera weight  Shell weight     Rings  \n",
       "Sex                  -0.001373       -0.032067     -0.034854 -0.034627  \n",
       "Length                0.897914        0.903018      0.897706  0.556720  \n",
       "Diameter              0.893162        0.899724      0.905330  0.574660  \n",
       "Height                0.774972        0.798319      0.817338  0.557467  \n",
       "Whole weight          0.969405        0.966375      0.955355  0.540390  \n",
       "Shucked weight        1.000000        0.931961      0.882617  0.420884  \n",
       "Viscera weight        0.931961        1.000000      0.907656  0.503819  \n",
       "Shell weight          0.882617        0.907656      1.000000  0.627574  \n",
       "Rings                 0.420884        0.503819      0.627574  1.000000  "
      ]
     },
     "execution_count": 55,
     "metadata": {},
     "output_type": "execute_result"
    }
   ],
   "source": [
    "df.corr() # correlation matrix"
   ]
  },
  {
   "cell_type": "markdown",
   "id": "73fd2be9",
   "metadata": {},
   "source": [
    "### Plotting Heatmap "
   ]
  },
  {
   "cell_type": "code",
   "execution_count": 56,
   "id": "115e5ff6",
   "metadata": {},
   "outputs": [
    {
     "data": {
      "text/plain": [
       "<AxesSubplot:>"
      ]
     },
     "execution_count": 56,
     "metadata": {},
     "output_type": "execute_result"
    },
    {
     "data": {
      "image/png": "[encoded data removed]",
      "text/plain": [
       "<Figure size 1080x504 with 2 Axes>"
      ]
     },
     "metadata": {
      "needs_background": "light"
     },
     "output_type": "display_data"
    }
   ],
   "source": [
    "plt.figure(figsize=(15,7))\n",
    "sns.heatmap(df.corr(),annot=True, linewidths=0.5, linecolor='black', fmt='.2f')"
   ]
  },
  {
   "cell_type": "code",
   "execution_count": 57,
   "id": "824c1712",
   "metadata": {},
   "outputs": [
    {
     "data": {
      "text/plain": [
       "<AxesSubplot:xlabel='Length', ylabel='Density'>"
      ]
     },
     "execution_count": 57,
     "metadata": {},
     "output_type": "execute_result"
    },
    {
     "data": {
      "image/png": "[encoded data removed]",
      "text/plain": [
       "<Figure size 432x288 with 1 Axes>"
      ]
     },
     "metadata": {
      "needs_background": "light"
     },
     "output_type": "display_data"
    }
   ],
   "source": [
    "sns.distplot(df['Length'])"
   ]
  },
  {
   "cell_type": "code",
   "execution_count": 58,
   "id": "6fd9ecaf",
   "metadata": {},
   "outputs": [
    {
     "data": {
      "text/plain": [
       "(4177, 9)"
      ]
     },
     "execution_count": 58,
     "metadata": {},
     "output_type": "execute_result"
    }
   ],
   "source": [
    "from scipy.stats import zscore\n",
    "z=np.abs(zscore(df))\n",
    "z.shape"
   ]
  },
  {
   "cell_type": "code",
   "execution_count": 59,
   "id": "2b79d0cc",
   "metadata": {},
   "outputs": [
    {
     "name": "stdout",
     "output_type": "stream",
     "text": [
      "(array([   6,   72,   81,   83,  129,  163,  164,  165,  165,  165,  166,\n",
      "        166,  167,  168,  170,  181,  232,  236,  236,  236,  237,  237,\n",
      "        238,  238,  239,  270,  275,  277,  278,  294,  310,  313,  314,\n",
      "        334,  351,  355,  358,  358,  362,  375,  416,  417,  428,  431,\n",
      "        433,  469,  478,  480,  501,  526,  526,  530,  572,  628,  673,\n",
      "        674,  675,  678,  694,  696,  696,  719,  719,  720,  720,  744,\n",
      "        754,  756,  811,  891,  891,  891, 1048, 1051, 1051, 1052, 1193,\n",
      "       1197, 1199, 1202, 1204, 1206, 1206, 1207, 1207, 1207, 1207, 1209,\n",
      "       1209, 1257, 1417, 1417, 1418, 1422, 1426, 1427, 1427, 1427, 1428,\n",
      "       1429, 1429, 1528, 1754, 1756, 1757, 1759, 1761, 1762, 1762, 1762,\n",
      "       1763, 1763, 1763, 1821, 1982, 1986, 1987, 1987, 2051, 2090, 2108,\n",
      "       2108, 2114, 2114, 2157, 2161, 2176, 2180, 2199, 2201, 2208, 2209,\n",
      "       2274, 2275, 2305, 2334, 2334, 2334, 2335, 2344, 2358, 2368, 2381,\n",
      "       2436, 2459, 2471, 2544, 2623, 2624, 2624, 2624, 2625, 2709, 2710,\n",
      "       2710, 2810, 2810, 2811, 2811, 2811, 2862, 2863, 2863, 2863, 3007,\n",
      "       3008, 3140, 3148, 3149, 3149, 3151, 3151, 3188, 3193, 3280, 3359,\n",
      "       3427, 3427, 3427, 3599, 3599, 3628, 3713, 3715, 3715, 3715, 3715,\n",
      "       3800, 3837, 3899, 3899, 3902, 3924, 3930, 3944, 3961, 3962, 3996,\n",
      "       4145, 4148], dtype=int64), array([8, 8, 7, 8, 7, 7, 7, 4, 5, 7, 7, 8, 8, 7, 6, 8, 8, 1, 2, 3, 1, 2,\n",
      "       1, 2, 1, 8, 8, 7, 8, 8, 8, 8, 8, 7, 8, 8, 4, 7, 8, 8, 8, 8, 8, 8,\n",
      "       8, 8, 8, 8, 8, 1, 2, 8, 8, 8, 8, 8, 8, 8, 2, 1, 2, 1, 2, 1, 2, 8,\n",
      "       8, 8, 8, 4, 5, 7, 6, 4, 5, 4, 5, 5, 5, 5, 6, 5, 6, 4, 5, 6, 7, 4,\n",
      "       5, 3, 3, 5, 5, 6, 5, 4, 5, 6, 7, 1, 2, 5, 5, 5, 6, 6, 5, 4, 5, 6,\n",
      "       4, 5, 6, 5, 5, 1, 1, 2, 3, 7, 7, 8, 1, 2, 7, 7, 8, 8, 8, 8, 7, 8,\n",
      "       7, 8, 8, 4, 6, 8, 8, 8, 8, 7, 1, 8, 8, 8, 5, 4, 4, 5, 6, 5, 6, 5,\n",
      "       6, 5, 6, 4, 5, 6, 5, 4, 5, 6, 5, 7, 8, 7, 7, 8, 7, 8, 7, 8, 8, 8,\n",
      "       4, 5, 6, 4, 5, 6, 5, 4, 5, 6, 7, 4, 2, 1, 2, 1, 8, 8, 8, 5, 5, 3,\n",
      "       7, 6], dtype=int64))\n"
     ]
    }
   ],
   "source": [
    "threshold=3\n",
    "print(np.where(z>3))"
   ]
  },
  {
   "cell_type": "code",
   "execution_count": 60,
   "id": "9a228713",
   "metadata": {},
   "outputs": [
    {
     "data": {
      "text/plain": [
       "200"
      ]
     },
     "execution_count": 60,
     "metadata": {},
     "output_type": "execute_result"
    }
   ],
   "source": [
    "len(np.where(z>3)[0])"
   ]
  },
  {
   "cell_type": "code",
   "execution_count": 61,
   "id": "13c6090b",
   "metadata": {},
   "outputs": [
    {
     "name": "stdout",
     "output_type": "stream",
     "text": [
      "Old DataFrame (4177, 9)\n",
      "New DataFrame (4027, 9)\n",
      "total_dropped_rows 150\n"
     ]
    }
   ],
   "source": [
    "df_new=df[(z<3).all(axis=1)]\n",
    "print('Old DataFrame',df.shape)\n",
    "print('New DataFrame',df_new.shape)\n",
    "print('total_dropped_rows',df.shape[0]-df_new.shape[0])"
   ]
  },
  {
   "cell_type": "code",
   "execution_count": 62,
   "id": "05009ae3",
   "metadata": {},
   "outputs": [
    {
     "name": "stdout",
     "output_type": "stream",
     "text": [
      "3.5910940866650707 %\n"
     ]
    }
   ],
   "source": [
    "loss_percentage=(4177-4027)/4177*100\n",
    "print(loss_percentage,'%')"
   ]
  },
  {
   "cell_type": "code",
   "execution_count": 63,
   "id": "0ea093e9",
   "metadata": {},
   "outputs": [],
   "source": [
    "# independent features\n",
    "x=df_new.iloc[:,:-1]\n",
    "#target\n",
    "y=df_new.iloc[:,-1]"
   ]
  },
  {
   "cell_type": "code",
   "execution_count": 64,
   "id": "f33c7756",
   "metadata": {},
   "outputs": [
    {
     "data": {
      "text/plain": [
       "array([[ 1.13432919, -0.68445079, -0.54337947, ..., -0.54086524,\n",
       "        -0.68803217, -0.58635376],\n",
       "       [ 1.13432919, -1.4117394 , -1.40113174, ..., -1.31131805,\n",
       "        -1.33285416, -1.33271691],\n",
       "       [-1.31306782, -0.0462191 ,  0.03716259, ..., -0.36270513,\n",
       "        -0.24037305, -0.08021413],\n",
       "       ...,\n",
       "       [ 1.13432919,  0.65112915,  0.70592133, ...,  0.90189694,\n",
       "         1.08965131,  0.66363183],\n",
       "       [-1.31306782,  0.92606411,  0.8377131 , ...,  0.92415296,\n",
       "         0.87642835,  0.57752029],\n",
       "       [ 1.13432919,  1.9719402 ,  1.85550496, ...,  2.31446634,\n",
       "         1.73214622,  1.85675543]])"
      ]
     },
     "execution_count": 64,
     "metadata": {},
     "output_type": "execute_result"
    }
   ],
   "source": [
    "# remove the skewness using power_transform function\n",
    "from sklearn.preprocessing import power_transform\n",
    "x=power_transform(x,method='yeo-johnson')\n",
    "x"
   ]
  },
  {
   "cell_type": "code",
   "execution_count": 65,
   "id": "7024b12c",
   "metadata": {},
   "outputs": [
    {
     "data": {
      "text/plain": [
       "array([[ 1.13432919, -0.68445079, -0.54337947, ..., -0.54086524,\n",
       "        -0.68803217, -0.58635376],\n",
       "       [ 1.13432919, -1.4117394 , -1.40113174, ..., -1.31131805,\n",
       "        -1.33285416, -1.33271691],\n",
       "       [-1.31306782, -0.0462191 ,  0.03716259, ..., -0.36270513,\n",
       "        -0.24037305, -0.08021413],\n",
       "       ...,\n",
       "       [ 1.13432919,  0.65112915,  0.70592133, ...,  0.90189694,\n",
       "         1.08965131,  0.66363183],\n",
       "       [-1.31306782,  0.92606411,  0.8377131 , ...,  0.92415296,\n",
       "         0.87642835,  0.57752029],\n",
       "       [ 1.13432919,  1.9719402 ,  1.85550496, ...,  2.31446634,\n",
       "         1.73214622,  1.85675543]])"
      ]
     },
     "execution_count": 65,
     "metadata": {},
     "output_type": "execute_result"
    }
   ],
   "source": [
    "from sklearn.preprocessing import StandardScaler\n",
    "sc=StandardScaler()\n",
    "x=sc.fit_transform(x)\n",
    "x\n"
   ]
  },
  {
   "cell_type": "markdown",
   "id": "44518cb3",
   "metadata": {},
   "source": [
    "# Training the data"
   ]
  },
  {
   "cell_type": "code",
   "execution_count": 66,
   "id": "b9b9f5ec",
   "metadata": {},
   "outputs": [],
   "source": [
    "from sklearn.model_selection import train_test_split\n",
    "from sklearn.linear_model import LogisticRegression\n",
    "lr=LogisticRegression()\n",
    "from sklearn.metrics import accuracy_score"
   ]
  },
  {
   "cell_type": "code",
   "execution_count": 67,
   "id": "c0d91095",
   "metadata": {},
   "outputs": [
    {
     "name": "stdout",
     "output_type": "stream",
     "text": [
      "Best accuracy is 0.3213399503722084 on Random_state 50\n"
     ]
    }
   ],
   "source": [
    "# model instantiating and training\n",
    "from sklearn.metrics import accuracy_score\n",
    "from sklearn.metrics import confusion_matrix,classification_report\n",
    "maxAcc=0  #maximum acciuracy\n",
    "maxRS=0   # best random state value for which maximun accuracy is achieved\n",
    "for i in range(1,200):\n",
    "    x_train, x_test, y_train, y_test=train_test_split(x,y,test_size=.20,random_state=i)\n",
    "    lr.fit(x_train,y_train)    # fitting the data will train our model\n",
    "    predrf=lr.predict(x_test)  # predicted target varibale\n",
    "    acc=accuracy_score(y_test,predrf)  # accuracy score\n",
    "    if acc > maxAcc:\n",
    "        maxAcc=acc\n",
    "        maxRS=i\n",
    "print('Best accuracy is',maxAcc, 'on Random_state', maxRS)"
   ]
  },
  {
   "cell_type": "code",
   "execution_count": 68,
   "id": "9dfd7166",
   "metadata": {},
   "outputs": [
    {
     "name": "stdout",
     "output_type": "stream",
     "text": [
      "At cv:- 2\n",
      "cross validation score is:- 27.39026023005381\n",
      "accuracy_score is:- 25.806451612903224\n",
      "\n",
      "\n",
      "At cv:- 3\n",
      "cross validation score is:- 27.266087630698298\n",
      "accuracy_score is:- 25.806451612903224\n",
      "\n",
      "\n",
      "At cv:- 4\n",
      "cross validation score is:- 26.794471502662276\n",
      "accuracy_score is:- 25.806451612903224\n",
      "\n",
      "\n",
      "At cv:- 5\n",
      "cross validation score is:- 27.01838694265062\n",
      "accuracy_score is:- 25.806451612903224\n",
      "\n",
      "\n",
      "At cv:- 6\n",
      "cross validation score is:- 26.522026470796966\n",
      "accuracy_score is:- 25.806451612903224\n",
      "\n",
      "\n",
      "At cv:- 7\n",
      "cross validation score is:- 26.943883712905453\n",
      "accuracy_score is:- 25.806451612903224\n",
      "\n",
      "\n",
      "At cv:- 8\n",
      "cross validation score is:- 26.6205347281391\n",
      "accuracy_score is:- 25.806451612903224\n",
      "\n",
      "\n",
      "At cv:- 9\n",
      "cross validation score is:- 26.69544094669934\n",
      "accuracy_score is:- 25.806451612903224\n",
      "\n",
      "\n"
     ]
    }
   ],
   "source": [
    "pred_lr=lr.predict(x_test)\n",
    "from sklearn.model_selection import cross_val_score\n",
    "lss=accuracy_score(y_test,pred_lr)\n",
    "for j in range (2,10):\n",
    "    lsscore=cross_val_score(lr,x,y,cv=j)\n",
    "    lsc=lsscore.mean()\n",
    "    print('At cv:-',j)\n",
    "    print('cross validation score is:-',lsc*100)\n",
    "    print('accuracy_score is:-', lss*100)\n",
    "    print('\\n')"
   ]
  },
  {
   "cell_type": "code",
   "execution_count": 69,
   "id": "520dad10",
   "metadata": {},
   "outputs": [
    {
     "name": "stdout",
     "output_type": "stream",
     "text": [
      "Best accuracy is 0.31017369727047145 on Random_state 57\n"
     ]
    }
   ],
   "source": [
    "#Finding best Random state\n",
    "\n",
    "from sklearn.svm import SVC\n",
    "maxAccu=0\n",
    "maxRS=0\n",
    "for i in range(1,200):\n",
    "    x_train,x_test,y_train,y_test=train_test_split(x,y,test_size=.20,random_state=i)\n",
    "    svc=SVC()\n",
    "    svc.fit(x_train,y_train)\n",
    "    predrf=svc.predict(x_test)\n",
    "    acc=accuracy_score(y_test,predrf)\n",
    "    if acc>maxAccu:\n",
    "        maxAccu=acc\n",
    "        maxRS=i\n",
    "print('Best accuracy is',maxAccu,'on Random_state',maxRS)"
   ]
  },
  {
   "cell_type": "code",
   "execution_count": 70,
   "id": "557f096a",
   "metadata": {},
   "outputs": [
    {
     "data": {
      "text/plain": [
       "LinearRegression()"
      ]
     },
     "execution_count": 70,
     "metadata": {},
     "output_type": "execute_result"
    }
   ],
   "source": [
    "from sklearn.linear_model import LinearRegression\n",
    "LReg=LinearRegression()\n",
    "x_train,x_test,y_train,y_test=train_test_split(x,y,test_size=0.20,random_state=200)\n",
    "LReg.fit(x_train, y_train)"
   ]
  },
  {
   "cell_type": "code",
   "execution_count": 71,
   "id": "d58c664d",
   "metadata": {},
   "outputs": [
    {
     "data": {
      "text/plain": [
       "0.5085375204995686"
      ]
     },
     "execution_count": 71,
     "metadata": {},
     "output_type": "execute_result"
    }
   ],
   "source": [
    "LReg.score(x_train,y_train)"
   ]
  },
  {
   "cell_type": "code",
   "execution_count": 72,
   "id": "df15a81f",
   "metadata": {},
   "outputs": [
    {
     "data": {
      "text/plain": [
       "0.5265631036764362"
      ]
     },
     "execution_count": 72,
     "metadata": {},
     "output_type": "execute_result"
    }
   ],
   "source": [
    "LReg.score(x_test,y_test)"
   ]
  },
  {
   "cell_type": "code",
   "execution_count": 73,
   "id": "9adba531",
   "metadata": {},
   "outputs": [
    {
     "data": {
      "text/plain": [
       "array([ 9.52817951,  8.28024224, 11.58061032, 10.56731462,  7.40814468,\n",
       "        6.33743202,  7.64028827, 10.50281256,  7.97239065,  8.2012793 ,\n",
       "       13.08205459, 11.76328998,  8.14506246, 15.14147345,  7.87596623,\n",
       "       10.27746202,  7.43198983,  6.30209637, 10.52934823, 11.10283867,\n",
       "       11.31480372,  7.58168392,  9.85950588, 12.19555867, 12.04816483,\n",
       "       11.870848  , 10.03010895, 14.81881309,  9.11563136,  8.50067203,\n",
       "       11.0645413 , 10.11502187,  9.38572866,  5.68712265, 11.97548586,\n",
       "        7.4432434 ,  8.63912398, 11.55859094, 12.05834552, 10.5365153 ,\n",
       "        8.75288229,  8.33586051, 10.01135498, 13.02667114, 11.13761726,\n",
       "        8.55303836,  7.478115  , 12.68799823,  8.75934468,  9.64866351,\n",
       "        7.08822412,  8.65201474,  9.97899275,  8.85358452,  9.3759323 ,\n",
       "       10.91749801,  8.78567657, 11.48642919, 10.33172189, 11.94283157,\n",
       "       10.4918941 , 10.62250334, 10.25422753,  7.57598874,  9.08168687,\n",
       "        8.0078836 ,  7.36236306,  9.33381155,  9.54582656, 12.17392672,\n",
       "        7.71483443,  9.10996492, 12.52432198,  9.32673146,  9.71894855,\n",
       "        6.94248708,  6.80919676,  7.90097352, 14.35683921, 13.034089  ,\n",
       "        8.78534016,  8.20744317,  8.37110423, 15.56079405, 10.42990283,\n",
       "        7.40700772, 12.91845775, 11.9499263 , 10.01589374,  7.71275245,\n",
       "        8.29966875,  8.38289578, 14.9625987 , 12.56447041,  7.33519766,\n",
       "        9.89365399, 12.95146897,  9.06615827, 12.06227281, 11.33377368,\n",
       "        9.6851624 ,  6.93678993, 11.8305473 ,  7.03100225,  8.31202524,\n",
       "       10.89321469, 12.59992611,  6.59616958,  8.86798074,  9.79543691,\n",
       "        9.01773726,  9.85518799, 12.2027082 ,  9.77384487, 10.02443578,\n",
       "        8.71545765,  6.8381273 ,  7.86986983,  7.95410204,  9.13007079,\n",
       "       11.15370081,  8.08306458, 12.09162143, 12.60820255, 11.6075565 ,\n",
       "        8.03314146, 11.1441522 ,  8.90648533, 10.88012875, 10.44576246,\n",
       "        5.99002507,  7.17745818,  7.94606604,  9.27333924,  8.47730634,\n",
       "        9.35274051, 10.09931643,  6.17490766,  9.34610006,  8.36911924,\n",
       "        9.33419429, 13.0606356 ,  9.6497182 ,  8.92975958,  9.13385612,\n",
       "       11.50969868,  8.73939666,  9.05036508,  7.4293421 , 11.71917924,\n",
       "       10.91087031,  8.9626175 ,  7.71648449,  9.73001881, 11.21125949,\n",
       "       10.30526285,  9.03088047,  9.45070786,  6.93092193, 10.09900239,\n",
       "        8.78870834,  9.80693005,  8.21946268,  9.9435325 ,  8.48598418,\n",
       "       10.01158989,  8.79122022,  7.88378702,  8.78884641,  9.43931941,\n",
       "        7.37792163, 10.41621845, 10.91816413,  9.4695621 ,  9.10843558,\n",
       "       10.00532707,  9.72584348,  7.1912854 ,  6.59472698,  7.27078501,\n",
       "       10.34218876, 11.24316584,  9.67321135,  6.51297732,  9.20707189,\n",
       "        8.07187404,  6.31239861,  8.94678306, 11.08493385, 10.74234649,\n",
       "        7.34652264,  9.99544055,  7.90734767,  7.15360581, 10.10706096,\n",
       "        8.7563829 , 11.65627873,  8.5995349 ,  9.99440326,  8.99633007,\n",
       "        8.95220217,  8.90053403,  7.54986381, 10.50237606,  8.19394493,\n",
       "       11.62845831, 10.67491307,  8.41095384,  8.98973965, 10.34469126,\n",
       "        8.06095067,  8.09052768,  6.89657112,  7.01577796,  7.08009484,\n",
       "        8.55853445, 10.86970751,  7.93268358, 12.74326131,  8.55808101,\n",
       "       13.92234747,  7.31486813,  8.98278171,  9.14448455,  7.93841872,\n",
       "        9.84965974,  8.47317647,  8.5008547 ,  8.75448516,  7.08801392,\n",
       "       12.60600611,  9.44586337, 11.62239151, 10.42979335, 13.78776712,\n",
       "        7.68205887,  8.71446348, 10.18573021, 11.67831585,  9.0899544 ,\n",
       "        7.55179768, 10.55486462,  8.81078894,  7.77553327,  7.05964355,\n",
       "        7.76554277,  6.9268448 ,  8.3980866 , 12.02354347,  9.98837334,\n",
       "        9.48788482, 10.21815579, 14.55808817, 10.51678682,  8.01436973,\n",
       "        9.17371648,  9.03494111, 11.86632361,  7.94727261,  9.11304419,\n",
       "        9.92997712,  9.13620233,  9.56512524,  6.50943672, 12.28260142,\n",
       "        7.05797677,  9.49190731, 10.53702695,  7.46095943, 10.45805037,\n",
       "        9.86562008,  7.49211518, 10.39267027,  6.19488691, 15.69334042,\n",
       "        8.37428231,  8.88313445, 10.02643453,  7.87142845,  8.70607364,\n",
       "       13.02892824,  8.2742566 ,  7.80251668, 10.17157475, 14.44983161,\n",
       "        8.39452552,  9.7290751 , 11.6325873 ,  7.37483344, 10.41517617,\n",
       "        7.34052445,  6.49526399,  9.36277255,  9.21726089,  8.04773653,\n",
       "        7.36087037, 10.38194209,  9.6659083 ,  9.27352081,  7.189629  ,\n",
       "        7.71362109,  9.39373197,  6.46160842,  7.34047546,  9.13846811,\n",
       "       10.04387292,  8.40341769,  6.91001668, 13.46242756, 10.50968347,\n",
       "       10.14083558,  7.37618727,  9.18144874,  7.39825374,  9.83021464,\n",
       "       10.11758553, 12.78046462, 11.66331156, 13.11033777, 11.67391293,\n",
       "        6.55375525, 12.42661725,  9.59633032, 11.10197338,  9.91195328,\n",
       "        8.07119689,  7.03848365,  7.84183765,  8.2168587 ,  1.64361484,\n",
       "        8.03996982,  7.68588643, 13.64971724, 12.95619328,  6.48169962,\n",
       "        6.51826595,  8.16068367, 10.46822908, 12.21129545,  8.045003  ,\n",
       "        9.60006634, 11.96891237, 10.17240584,  7.76310315,  8.28280937,\n",
       "       11.2074527 , 10.95777752,  8.74761359, 13.21187444, 14.45698934,\n",
       "       10.9474614 , 10.05197958,  7.71102214, 12.64505195,  7.7465173 ,\n",
       "       13.16361333,  9.81844399, 10.03694266, 12.49312846, 10.08999111,\n",
       "        7.00658999,  8.36070395,  7.80066636, 10.91077127,  9.71129155,\n",
       "        9.26829349,  9.41276783, 10.01908127,  7.14815344, 10.8579519 ,\n",
       "        7.9958159 , 10.71717371,  8.87941711,  8.06901336,  8.2884785 ,\n",
       "       10.39736275,  9.92431246, 12.27394171,  6.83644195,  7.42132409,\n",
       "        9.89539346,  9.04935287,  7.29967076,  7.8553406 ,  6.624858  ,\n",
       "        7.4305979 ,  7.93789389, 10.27384968, 10.1918988 ,  8.93586728,\n",
       "       10.76478506,  9.46398738, 11.43963884,  7.44552819,  9.29189671,\n",
       "       12.96570759,  8.27527706,  9.71768428,  9.01441347,  9.49241964,\n",
       "        8.61252503, 10.05385426, 12.84353358, 11.1277632 ,  8.02157999,\n",
       "        7.39654103,  7.90323342, 11.42713443, 11.36792533,  9.6676115 ,\n",
       "        9.11905649,  8.79978803, 10.54988036,  9.90076013, 10.72895163,\n",
       "        8.91668068,  7.9689335 ,  8.57871251,  6.42193356,  9.73635949,\n",
       "        8.65068556,  7.1996656 ,  8.38591539, 10.86646959, 15.70858497,\n",
       "       10.348548  ,  7.77952665,  6.75920125,  7.90399599,  7.8036855 ,\n",
       "       11.06200424,  7.58960358, 12.40678606,  7.76028818, 12.18729305,\n",
       "       11.84104002, 11.77308485, 11.46560365,  7.33982283,  7.93505487,\n",
       "        7.49517365,  9.74277397, 12.93577723,  9.18905729, 10.38856538,\n",
       "        7.89624801,  8.86399456, 10.55332442,  8.42798356, 16.04022679,\n",
       "       11.17582459, 16.41172278,  6.67681199,  9.36519117, 12.40601359,\n",
       "       10.79681011,  8.71409905,  8.01990838, 10.58032364,  8.16713214,\n",
       "        7.05646801,  9.91727977,  9.02049377, 10.09044723,  9.02584618,\n",
       "        9.77169634, 10.54865249, 10.73166259, 11.37355915, 10.01749526,\n",
       "       11.23012472, 13.61752863,  9.27716516,  8.045754  ,  9.16849353,\n",
       "        7.97690348,  8.39388185,  9.23702807,  7.77910246, 10.02205376,\n",
       "        7.59507894, 11.90645222,  7.13709519, 11.68050977, 10.33174209,\n",
       "        9.94857826,  8.21945744, 11.38905781,  7.74431632, 12.38198215,\n",
       "       10.19080938, 10.88917634, 12.18723766, 11.11397795,  7.53619499,\n",
       "        7.76636402,  7.10810983, 16.96946033,  9.41682729, 11.54628224,\n",
       "        9.31596506, 12.11481251, 11.80834253, 11.48342367,  9.1913873 ,\n",
       "       11.54558849,  7.92542228, 13.88635974, 11.4628621 , 13.81209949,\n",
       "        9.27357428, 10.47105022,  6.83465336,  6.85984983, 10.53699845,\n",
       "       14.65462208,  9.48808654, 10.61714999,  8.484406  ,  9.50831902,\n",
       "       11.97661352, 11.74160459, 12.52232588,  7.29406575,  9.48352816,\n",
       "       10.22818818, 12.07316841, 15.04682098, 10.53701715,  9.23323229,\n",
       "        7.92034114,  8.76366266,  8.95361937,  8.85364744, 10.63912316,\n",
       "       13.05883771, 13.47468951, 12.91742651,  9.72647903, 13.96988396,\n",
       "        7.16137824,  8.57902456, 10.91227783,  7.69262147, 10.7251604 ,\n",
       "        8.46692304,  7.26140688, 11.46434505,  9.12816578,  7.69937463,\n",
       "       12.18463957, 12.70734538,  7.24515246,  8.39790814, 11.63679623,\n",
       "       12.4963325 ,  8.7411842 , 15.80880033,  8.26306604, 12.62985207,\n",
       "        6.97631749, 10.96584805,  7.53401291, 10.13877426,  7.33384358,\n",
       "        7.41001774,  7.74978515,  9.53959045, 11.43604898,  8.5843825 ,\n",
       "        7.18372703, 13.52706946, 10.37491897,  8.2013759 , 13.18012727,\n",
       "        9.55943472, 13.37619602, 11.2014985 , 11.27858898,  8.27813434,\n",
       "       10.6521221 ,  6.25977015, 10.95987974, 10.50689362,  8.84216202,\n",
       "       12.32515159, 10.7951383 ,  8.87032161, 10.50753175, 10.24264422,\n",
       "        7.13705588,  6.62180858,  8.4966093 ,  7.99120316, 11.32560639,\n",
       "        6.5168977 , 11.32654129,  6.13300936,  9.78953575, 10.13577663,\n",
       "       12.94774102,  9.53102791,  7.8848422 , 13.09721523,  8.47253494,\n",
       "       10.60075779,  9.68274785, 12.66435527,  7.23376474,  8.45182387,\n",
       "        9.73406818, 14.1365336 , 11.52473988, 12.61676259, 11.10077916,\n",
       "       12.54240506, 13.69516011,  9.89181262,  3.31307237, 10.70423405,\n",
       "        7.96222051,  9.94362147, 10.34034417, 11.95964796,  8.05616304,\n",
       "        9.17715651,  8.03048997, 12.1275811 ,  6.1385903 , 10.87247487,\n",
       "        9.54933396,  8.90409777,  9.29668813, 10.87488172,  7.17990037,\n",
       "        9.33802551,  7.62548997, 11.82985568,  8.82024537,  8.9375186 ,\n",
       "       11.32435564, 12.03990505,  8.42885649,  7.67306816,  8.81554563,\n",
       "       11.21069426, 10.68993561, 10.1871196 , 11.57224654, 11.94024499,\n",
       "       10.4398941 , 14.66735534,  8.17799877, 14.15273415, 11.80141271,\n",
       "        8.25868857,  6.68648864,  9.31425678,  7.18708636,  9.77072332,\n",
       "       11.09933595, 10.85413592,  9.26450414,  9.33609976,  9.82666501,\n",
       "       10.00536622,  8.92270962,  5.94748072,  8.48773602,  9.35784978,\n",
       "        8.8294379 ,  6.73373705, 10.88501207,  9.24642692, 15.10635551,\n",
       "        8.71200498, 10.87524608, 12.37252065,  7.80427316,  8.60702741,\n",
       "        9.03719336, 10.61681556,  7.16530869, 11.8760767 ,  8.00191078,\n",
       "        8.78288268, 12.2414058 , -3.75625965, 12.34986848,  8.41162223,\n",
       "        9.4407614 ,  9.2135571 , 11.15830271, 11.8008109 ,  8.17275376,\n",
       "        7.63536193,  8.43879118,  8.01704188, 10.9640482 ,  8.75589651,\n",
       "        6.10793539, 10.57586801,  9.7632567 , 10.83712382, 11.47596419,\n",
       "        7.30423064,  9.77934596, 10.49223122,  8.55974589,  9.90068643,\n",
       "        9.70471921,  9.25060748, 10.79474115, 12.96901461,  9.2958166 ,\n",
       "       10.8741139 ,  8.14460437, 10.975844  , 10.17602101,  8.40103453,\n",
       "        7.67250214,  8.80755269,  8.94971896,  6.44366572,  7.34860823,\n",
       "       11.14880033, 11.40383627, 10.89010095,  9.01839128, 11.57036695,\n",
       "        8.82146594, 11.61599617,  7.57151103, 14.12137614,  7.36710182,\n",
       "       10.57496266,  9.22269047, 13.68878735,  7.17223868,  9.86760263,\n",
       "       12.33123788, 12.7201741 ,  9.49280103,  8.80860458, 13.15282229,\n",
       "       10.38521063,  9.36377966,  9.15330133,  9.83663966,  7.23998901,\n",
       "        8.66059728,  8.62765365,  6.48821157,  8.32733422,  7.56668952,\n",
       "       12.1451438 ,  7.40585703, 10.74764267, 11.10698063, 13.43422083,\n",
       "       11.37515045, 10.75555881, 11.76475387, 11.96761216,  8.0997846 ,\n",
       "        8.67311111, 13.24343382, 14.19513271, 14.72602531,  9.66350227,\n",
       "        7.62075456, 14.88777845, 10.00751864, 10.29329863, 10.86456867,\n",
       "       12.89557431,  7.43554317, 10.45452134,  9.22769344,  9.41682403,\n",
       "       12.00820614,  9.90823261,  7.78144619, 11.72542371, 10.74596941,\n",
       "       12.71493572,  8.38950474,  8.4855931 ,  7.89554929,  7.54709225,\n",
       "        6.76103484, 10.55485133,  7.02351061, 13.67502145, 10.45654829,\n",
       "        8.39052053, 10.810576  ,  6.82537875, 10.76194141,  8.45095017,\n",
       "       12.69087041,  8.4338313 ,  9.98736561, 10.27576603, 12.80249747,\n",
       "        6.31240777])"
      ]
     },
     "execution_count": 73,
     "metadata": {},
     "output_type": "execute_result"
    }
   ],
   "source": [
    "y_pred=LReg.predict(x_test)\n",
    "y_pred"
   ]
  },
  {
   "cell_type": "code",
   "execution_count": null,
   "id": "3e2ec4ec",
   "metadata": {},
   "outputs": [],
   "source": []
  },
  {
   "cell_type": "code",
   "execution_count": 82,
   "id": "d4f50bb6",
   "metadata": {},
   "outputs": [],
   "source": [
    "from sklearn.metrics import mean_squared_error,mean_absolute_error\n",
    "\n",
    "y_pred=LReg.predict(x_test)"
   ]
  },
  {
   "cell_type": "code",
   "execution_count": 75,
   "id": "d08a329e",
   "metadata": {},
   "outputs": [
    {
     "data": {
      "text/plain": [
       "1.4385023678584654"
      ]
     },
     "execution_count": 75,
     "metadata": {},
     "output_type": "execute_result"
    }
   ],
   "source": [
    "mean_absolute_error(y_test,y_pred)"
   ]
  },
  {
   "cell_type": "code",
   "execution_count": 76,
   "id": "15389604",
   "metadata": {},
   "outputs": [
    {
     "data": {
      "text/plain": [
       "3.745506210280618"
      ]
     },
     "execution_count": 76,
     "metadata": {},
     "output_type": "execute_result"
    }
   ],
   "source": [
    "mean_squared_error(y_test,y_pred)"
   ]
  },
  {
   "cell_type": "code",
   "execution_count": 77,
   "id": "457f118c",
   "metadata": {},
   "outputs": [
    {
     "data": {
      "text/plain": [
       "1.9353310337719019"
      ]
     },
     "execution_count": 77,
     "metadata": {},
     "output_type": "execute_result"
    }
   ],
   "source": [
    "np.sqrt(mean_squared_error(y_test,y_pred))"
   ]
  },
  {
   "cell_type": "code",
   "execution_count": 78,
   "id": "23bfcacd",
   "metadata": {},
   "outputs": [
    {
     "data": {
      "text/plain": [
       "LassoCV(normalize=True)"
      ]
     },
     "execution_count": 78,
     "metadata": {},
     "output_type": "execute_result"
    }
   ],
   "source": [
    "#checking the overfitting case with Lasso and Ridge\n",
    "from sklearn.linear_model import Ridge,Lasso, RidgeCV, LassoCV\n",
    "lasscv=LassoCV(alphas=None, normalize=True)\n",
    "lasscv.fit(x_train, y_train)"
   ]
  },
  {
   "cell_type": "code",
   "execution_count": 79,
   "id": "c9f71e05",
   "metadata": {},
   "outputs": [
    {
     "data": {
      "text/plain": [
       "3.205547130306254e-05"
      ]
     },
     "execution_count": 79,
     "metadata": {},
     "output_type": "execute_result"
    }
   ],
   "source": [
    "alpha=lasscv.alpha_\n",
    "alpha"
   ]
  },
  {
   "cell_type": "code",
   "execution_count": 80,
   "id": "86ac83ec",
   "metadata": {},
   "outputs": [
    {
     "data": {
      "text/plain": [
       "Lasso(alpha=3.205547130306254e-05)"
      ]
     },
     "execution_count": 80,
     "metadata": {},
     "output_type": "execute_result"
    }
   ],
   "source": [
    "lasso_reg=Lasso(alpha)\n",
    "lasso_reg.fit(x_train, y_train)"
   ]
  },
  {
   "cell_type": "code",
   "execution_count": 81,
   "id": "7b65dcf6",
   "metadata": {},
   "outputs": [
    {
     "data": {
      "text/plain": [
       "0.5265885007749367"
      ]
     },
     "execution_count": 81,
     "metadata": {},
     "output_type": "execute_result"
    }
   ],
   "source": [
    "lasso_reg.score(x_test, y_test)"
   ]
  },
  {
   "cell_type": "markdown",
   "id": "735cf8ab",
   "metadata": {},
   "source": [
    "#### Linear Regression have better performance and it is not overfitted"
   ]
  },
  {
   "cell_type": "code",
   "execution_count": null,
   "id": "1b8059d4",
   "metadata": {},
   "outputs": [],
   "source": []
  },
  {
   "cell_type": "code",
   "execution_count": null,
   "id": "31a89dc9",
   "metadata": {},
   "outputs": [],
   "source": []
  },
  {
   "cell_type": "code",
   "execution_count": null,
   "id": "1d569cc3",
   "metadata": {},
   "outputs": [],
   "source": []
  }
 ],
 "metadata": {
  "kernelspec": {
   "display_name": "Python 3",
   "language": "python",
   "name": "python3"
  },
  "language_info": {
   "codemirror_mode": {
    "name": "ipython",
    "version": 3
   },
   "file_extension": ".py",
   "mimetype": "text/x-python",
   "name": "python",
   "nbconvert_exporter": "python",
   "pygments_lexer": "ipython3",
   "version": "3.8.8"
  }
 },
 "nbformat": 4,
 "nbformat_minor": 5
}
